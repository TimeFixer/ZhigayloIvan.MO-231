{
 "cells": [
  {
   "cell_type": "code",
   "execution_count": 12,
   "metadata": {
    "dotnet_interactive": {
     "language": "csharp"
    },
    "polyglot_notebook": {
     "kernelName": "csharp"
    }
   },
   "outputs": [
    {
     "name": "stdout",
     "output_type": "stream",
     "text": [
      "{\n",
      "  \"Name\": \"Cadet1\",\n",
      "  \"GPA\": 5\n",
      "}\n",
      "{\n",
      "  \"Name\": \"Cadet4\",\n",
      "  \"GPA\": 5\n",
      "}\n"
     ]
    }
   ],
   "source": [
    "using Newtonsoft.Json;\n",
    "using System.IO;\n",
    "using Newtonsoft.Json.Linq;\n",
    "List<Cadet> List = new List<Cadet>();\n",
    "List<Cadet> ListAns = new List<Cadet>();\n",
    "public class Cadet\n",
    "{\n",
    "    public string Name { get; set;}\n",
    "    public int GPA { get; set;}\n",
    "    public Cadet(string name, int mark)\n",
    "    {\n",
    "        this.Name = name;\n",
    "        this.GPA = mark;\n",
    "    }\n",
    "}\n",
    "    string path = \"part.json\";\n",
    "\n",
    "    string jsonText = File.ReadAllText(path);\n",
    "    dynamic data = JsonConvert.DeserializeObject(jsonText);\n",
    "    foreach(dynamic data in data.data){\n",
    "        List.Add (new Cadet(Convert.ToString(data.name), Convert.ToInt32(data.mark))\n",
    "        {\n",
    "            Name = data.name,\n",
    "            GPA = data.mark,\n",
    "        });\n",
    "        \n",
    "    }\n",
    "        string buffer = null;\n",
    "    foreach(Cadet a in List){\n",
    "        if(buffer == a.Name){\n",
    "        continue;\n",
    "        }\n",
    "        int count = 0;\n",
    "        int count0 = 0;\n",
    "        foreach (Cadet b in List){\n",
    "            if (a != b) continue;\n",
    "            count++;\n",
    "            count0 += b.GPA;\n",
    "        }\n",
    "    \n",
    "        if(count0/count == 5 && !ListAns.Contains<Cadet>(a)) {\n",
    "            ListAns.Add(a);\n",
    "            buffer = a.Name;\n",
    "        }\n",
    "    }\n",
    "    \n",
    "foreach(Cadet a in ListAns){\n",
    "JObject o = (JObject)JToken.FromObject(a);\n",
    "Console.WriteLine(o.ToString());\n",
    "}\n"
   ]
  },
  {
   "cell_type": "code",
   "execution_count": 10,
   "metadata": {
    "dotnet_interactive": {
     "language": "csharp"
    },
    "polyglot_notebook": {
     "kernelName": "csharp"
    }
   },
   "outputs": [
    {
     "name": "stdout",
     "output_type": "stream",
     "text": [
      "{\n",
      "  \"Discipline\": \"Programming\",\n",
      "  \"GPA\": 4.25\n",
      "}\n",
      "{\n",
      "  \"Discipline\": \"Algebra\",\n",
      "  \"GPA\": 4.25\n",
      "}\n"
     ]
    }
   ],
   "source": [
    "using Newtonsoft.Json;\n",
    "using Newtonsoft.Json.Linq;\n",
    "Dictionary<string, string> List = new Dictionary<string, string>();\n",
    "List<Cadet> ListAns = new List<Cadet>();\n",
    "public class Cadet\n",
    "{\n",
    "    public string Discipline { get; set;}\n",
    "    public double GPA { get; set;}\n",
    "    public Cadet(string discipline, double GPA)\n",
    "    {\n",
    "        this.Discipline = discipline;\n",
    "        this.GPA = GPA;\n",
    "    }\n",
    "}\n",
    "    string path = \"part1.json\";\n",
    "\n",
    "    string jsonText = File.ReadAllText(path);\n",
    "    dynamic data = JsonConvert.DeserializeObject(jsonText);\n",
    "    foreach(dynamic data in data.data){\n",
    "            if (List.ContainsKey(Convert.ToString(data.discipline))) List[Convert.ToString(data.discipline)] += \" \" + Convert.ToString(data.mark);\n",
    "            if (!List.ContainsKey(Convert.ToString(data.discipline))) List.Add(Convert.ToString(data.discipline), Convert.ToString(data.mark));\n",
    "        }\n",
    "\n",
    "foreach(KeyValuePair<string, string> a in List){\n",
    "    int c = 0;\n",
    "    double d = 0;\n",
    "    string[] subs = a.Value.Split(' ');\n",
    "    foreach(string b in subs){\n",
    "        c += Convert.ToInt32(b);\n",
    "    }\n",
    "    d = Convert.ToDouble(c) / Convert.ToDouble(subs.Length);\n",
    "    ListAns.Add(new Cadet(a.Key, d));\n",
    "}\n",
    "foreach(Cadet a in ListAns){\n",
    "JObject o = (JObject)JToken.FromObject(a);\n",
    "Console.WriteLine(o.ToString());\n",
    "}"
   ]
  },
  {
   "cell_type": "code",
   "execution_count": 70,
   "metadata": {
    "dotnet_interactive": {
     "language": "csharp"
    },
    "polyglot_notebook": {
     "kernelName": "csharp"
    }
   },
   "outputs": [
    {
     "name": "stdout",
     "output_type": "stream",
     "text": [
      "{\n",
      "  \"Name\": \"Programming\",\n",
      "  \"Group\": \"SC-992\",\n",
      "  \"GPA\": 4.5\n",
      "}\n",
      "{\n",
      "  \"Name\": \"Algebra\",\n",
      "  \"Group\": \"SC-991\",\n",
      "  \"GPA\": 4.5\n",
      "}\n"
     ]
    }
   ],
   "source": [
    "using Newtonsoft.Json;\n",
    "using System.IO;\n",
    "using Newtonsoft.Json.Linq;\n",
    "Dictionary<string, string> List = new Dictionary<string, string>();\n",
    "List<Cadet> ListAns = new List<Cadet>();\n",
    "List<string> cheker = new List<string>();\n",
    "public class Cadet\n",
    "{\n",
    "    public string Name { get; set;}\n",
    "    public string Group { get; set;}\n",
    "    public double GPA { get; set;}\n",
    "    public Cadet(string name, string group, double GPA)\n",
    "    {\n",
    "        this.Name = name;\n",
    "        this.Group = group;\n",
    "        this.GPA = GPA;\n",
    "    }\n",
    "}\n",
    "    string path = \"part2.json\";\n",
    "\n",
    "    string jsonText = File.ReadAllText(path);\n",
    "    dynamic data = JsonConvert.DeserializeObject(jsonText);\n",
    "    foreach(dynamic data in data.data){\n",
    "            if (List.ContainsKey(Convert.ToString(data.discipline + \" \" + data.group))) List[Convert.ToString(data.discipline + \" \" + data.group)] += \" \" + Convert.ToString(data.mark);\n",
    "            if (!List.ContainsKey(Convert.ToString(data.discipline + \" \" + data.group))) List.Add(Convert.ToString(data.discipline + \" \" + data.group), Convert.ToString(data.mark));\n",
    "        }\n",
    "\n",
    "    foreach(KeyValuePair<string, string> a in List){\n",
    "        int c = 0;\n",
    "        int c0 = 0;\n",
    "        double d = 0;\n",
    "        double d0 = 0;\n",
    "        foreach(KeyValuePair<string, string> b in List){\n",
    "\n",
    "            string[] subs = a.Key.Split(' ');\n",
    "            string[] subs0 = b.Key.Split(' ');\n",
    "            if (subs[0] != subs0[0] || subs[1] == subs0[1] || cheker.Contains(subs[0])) continue;\n",
    "            string[] Valuesubs = a.Value.Split(' ');\n",
    "            string[] Valuesubs0 = b.Value.Split(' ');\n",
    "            foreach(string v in Valuesubs){\n",
    "                c += Convert.ToInt32(v);\n",
    "            }\n",
    "            foreach(string v in Valuesubs0){\n",
    "                c0 += Convert.ToInt32(v);\n",
    "            }\n",
    "            if (Convert.ToDouble(c) / Convert.ToDouble(Valuesubs.Length) >= Convert.ToDouble(c0) / Convert.ToDouble(Valuesubs0.Length)){\n",
    "                d = Convert.ToDouble(c) / Convert.ToDouble(Valuesubs.Length);\n",
    "                ListAns.Add(new Cadet(subs[0], subs[1], d));\n",
    "                cheker.Add(subs[0]);\n",
    "            }\n",
    "            else if (Convert.ToDouble(c) / Convert.ToDouble(Valuesubs.Length) <= Convert.ToDouble(c0) / Convert.ToDouble(Valuesubs0.Length)){\n",
    "            d0 = Convert.ToDouble(c0) / Convert.ToDouble(Valuesubs0.Length);\n",
    "            ListAns.Add(new Cadet(subs0[0], subs0[1], d0));\n",
    "            cheker.Add(subs0[0]);\n",
    "            }\n",
    "    }\n",
    "\n",
    "}\n",
    "\n",
    "foreach(Cadet a in ListAns){\n",
    "JObject o = (JObject)JToken.FromObject(a);\n",
    "Console.WriteLine(o.ToString());\n",
    "}\n",
    "    \n"
   ]
  }
 ],
 "metadata": {
  "kernelspec": {
   "display_name": ".NET (C#)",
   "language": "C#",
   "name": ".net-csharp"
  },
  "language_info": {
   "name": "polyglot-notebook"
  },
  "polyglot_notebook": {
   "kernelInfo": {
    "defaultKernelName": "csharp",
    "items": [
     {
      "aliases": [],
      "languageName": "csharp",
      "name": "csharp"
     }
    ]
   }
  }
 },
 "nbformat": 4,
 "nbformat_minor": 2
}
