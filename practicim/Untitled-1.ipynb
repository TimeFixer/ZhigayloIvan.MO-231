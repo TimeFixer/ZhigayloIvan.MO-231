{
 "cells": [
  {
   "cell_type": "code",
   "execution_count": 35,
   "metadata": {
    "dotnet_interactive": {
     "language": "csharp"
    },
    "polyglot_notebook": {
     "kernelName": "csharp"
    }
   },
   "outputs": [
    {
     "name": "stdout",
     "output_type": "stream",
     "text": [
      "{\n",
      "  \"Name\": \"Cadet1\",\n",
      "  \"GPA\": 5.0\n",
      "}\n",
      "{\n",
      "  \"Name\": \"Cadet4\",\n",
      "  \"GPA\": 5.0\n",
      "}\n"
     ]
    },
    {
     "data": {
      "text/html": [
       "<table><thead><tr><th><i>index</i></th><th>value</th></tr></thead><tbody><tr><td>0</td><td><details class=\"dni-treeview\"><summary><span class=\"dni-code-hint\"><code>{ Name = Cadet1, GPA = 5 }</code></span></summary><div><table><thead><tr></tr></thead><tbody><tr><td>Name</td><td><div class=\"dni-plaintext\"><pre>Cadet1</pre></div></td></tr><tr><td>GPA</td><td><div class=\"dni-plaintext\"><pre>5</pre></div></td></tr></tbody></table></div></details></td></tr><tr><td>1</td><td><details class=\"dni-treeview\"><summary><span class=\"dni-code-hint\"><code>{ Name = Cadet4, GPA = 5 }</code></span></summary><div><table><thead><tr></tr></thead><tbody><tr><td>Name</td><td><div class=\"dni-plaintext\"><pre>Cadet4</pre></div></td></tr><tr><td>GPA</td><td><div class=\"dni-plaintext\"><pre>5</pre></div></td></tr></tbody></table></div></details></td></tr></tbody></table><style>\r\n",
       ".dni-code-hint {\r\n",
       "    font-style: italic;\r\n",
       "    overflow: hidden;\r\n",
       "    white-space: nowrap;\r\n",
       "}\r\n",
       ".dni-treeview {\r\n",
       "    white-space: nowrap;\r\n",
       "}\r\n",
       ".dni-treeview td {\r\n",
       "    vertical-align: top;\r\n",
       "    text-align: start;\r\n",
       "}\r\n",
       "details.dni-treeview {\r\n",
       "    padding-left: 1em;\r\n",
       "}\r\n",
       "table td {\r\n",
       "    text-align: start;\r\n",
       "}\r\n",
       "table tr { \r\n",
       "    vertical-align: top; \r\n",
       "    margin: 0em 0px;\r\n",
       "}\r\n",
       "table tr td pre \r\n",
       "{ \r\n",
       "    vertical-align: top !important; \r\n",
       "    margin: 0em 0px !important;\r\n",
       "} \r\n",
       "table th {\r\n",
       "    text-align: start;\r\n",
       "}\r\n",
       "</style>"
      ]
     },
     "metadata": {},
     "output_type": "display_data"
    }
   ],
   "source": [
    "using Newtonsoft.Json;\n",
    "using System.Linq;\n",
    "using System.IO;\n",
    "using Newtonsoft.Json.Linq;\n",
    "using System.Collections.Generic;\n",
    "public class Cadet\n",
    "{\n",
    "    public string name { get; set;}\n",
    "    public string group{ get; set;}\n",
    "    public string discipline{ get; set;}\n",
    "    public int mark { get; set;}\n",
    "}\n",
    "string jsonText = File.ReadAllText(\"part.json\");\n",
    "List<Cadet> qq = JsonConvert.DeserializeObject<List<Cadet>>(jsonText);\n",
    "var quest0 = qq.GroupBy(s => s.group).Select(g => g.GroupBy(s => s.name).Select(g2 => new { Name = g2.Key, GPA = g2.Average(s => s.mark)}).OrderByDescending(g2 => g2.GPA).First());\n",
    "foreach(var a in quest0){\n",
    "JObject o = (JObject)JToken.FromObject(a);\n",
    "Console.WriteLine(o.ToString());\n",
    "}\n",
    "File.WriteAllText(\"partans\", JsonConvert.SerializeObject(quest0));\n",
    "quest0"
   ]
  },
  {
   "cell_type": "code",
   "execution_count": 25,
   "metadata": {
    "dotnet_interactive": {
     "language": "csharp"
    },
    "polyglot_notebook": {
     "kernelName": "csharp"
    }
   },
   "outputs": [
    {
     "data": {
      "text/html": [
       "<table><thead><tr><th><i>key</i></th><th>value</th></tr></thead><tbody><tr><td><div class=\"dni-plaintext\"><pre>Programming</pre></div></td><td><div class=\"dni-plaintext\"><pre>4.25</pre></div></td></tr><tr><td><div class=\"dni-plaintext\"><pre>Algebra</pre></div></td><td><div class=\"dni-plaintext\"><pre>4.25</pre></div></td></tr></tbody></table><style>\r\n",
       ".dni-code-hint {\r\n",
       "    font-style: italic;\r\n",
       "    overflow: hidden;\r\n",
       "    white-space: nowrap;\r\n",
       "}\r\n",
       ".dni-treeview {\r\n",
       "    white-space: nowrap;\r\n",
       "}\r\n",
       ".dni-treeview td {\r\n",
       "    vertical-align: top;\r\n",
       "    text-align: start;\r\n",
       "}\r\n",
       "details.dni-treeview {\r\n",
       "    padding-left: 1em;\r\n",
       "}\r\n",
       "table td {\r\n",
       "    text-align: start;\r\n",
       "}\r\n",
       "table tr { \r\n",
       "    vertical-align: top; \r\n",
       "    margin: 0em 0px;\r\n",
       "}\r\n",
       "table tr td pre \r\n",
       "{ \r\n",
       "    vertical-align: top !important; \r\n",
       "    margin: 0em 0px !important;\r\n",
       "} \r\n",
       "table th {\r\n",
       "    text-align: start;\r\n",
       "}\r\n",
       "</style>"
      ]
     },
     "metadata": {},
     "output_type": "display_data"
    }
   ],
   "source": [
    "using Newtonsoft.Json;\n",
    "using System.Linq;\n",
    "using System.IO;\n",
    "using Newtonsoft.Json.Linq;\n",
    "using System.Collections.Generic;\n",
    "public class Cadet\n",
    "{\n",
    "    public string name { get; set;}\n",
    "    public string group{ get; set;}\n",
    "    public string discipline{ get; set;}\n",
    "    public int mark { get; set;}\n",
    "}\n",
    "string jsonText = File.ReadAllText(\"part1.json\");\n",
    "List<Cadet> qq = JsonConvert.DeserializeObject<List<Cadet>>(jsonText);\n",
    "var quest0 = qq.GroupBy(s => s.discipline).Select(g2 => new { Name = g2.Key, GPA = g2.Average(s => s.mark)}).ToDictionary(x => x.Name, x => x.GPA);\n",
    "quest0"
   ]
  },
  {
   "cell_type": "code",
   "execution_count": 33,
   "metadata": {},
   "outputs": [
    {
     "name": "stdout",
     "output_type": "stream",
     "text": [
      "{\n",
      "  \"Name\": \"Programming\",\n",
      "  \"Group\": \"SC-992\",\n",
      "  \"GPA\": 4.5\n",
      "}\n",
      "{\n",
      "  \"Name\": \"Algebra\",\n",
      "  \"Group\": \"SC-991\",\n",
      "  \"GPA\": 4.5\n",
      "}\n"
     ]
    },
    {
     "data": {
      "text/html": [
       "<table><thead><tr><th><i>index</i></th><th>value</th></tr></thead><tbody><tr><td>0</td><td><details class=\"dni-treeview\"><summary><span class=\"dni-code-hint\"><code>{ Name = Programming, Group = SC-992, GPA = 4.5 }</code></span></summary><div><table><thead><tr></tr></thead><tbody><tr><td>Name</td><td><div class=\"dni-plaintext\"><pre>Programming</pre></div></td></tr><tr><td>Group</td><td><div class=\"dni-plaintext\"><pre>SC-992</pre></div></td></tr><tr><td>GPA</td><td><div class=\"dni-plaintext\"><pre>4.5</pre></div></td></tr></tbody></table></div></details></td></tr><tr><td>1</td><td><details class=\"dni-treeview\"><summary><span class=\"dni-code-hint\"><code>{ Name = Algebra, Group = SC-991, GPA = 4.5 }</code></span></summary><div><table><thead><tr></tr></thead><tbody><tr><td>Name</td><td><div class=\"dni-plaintext\"><pre>Algebra</pre></div></td></tr><tr><td>Group</td><td><div class=\"dni-plaintext\"><pre>SC-991</pre></div></td></tr><tr><td>GPA</td><td><div class=\"dni-plaintext\"><pre>4.5</pre></div></td></tr></tbody></table></div></details></td></tr></tbody></table><style>\r\n",
       ".dni-code-hint {\r\n",
       "    font-style: italic;\r\n",
       "    overflow: hidden;\r\n",
       "    white-space: nowrap;\r\n",
       "}\r\n",
       ".dni-treeview {\r\n",
       "    white-space: nowrap;\r\n",
       "}\r\n",
       ".dni-treeview td {\r\n",
       "    vertical-align: top;\r\n",
       "    text-align: start;\r\n",
       "}\r\n",
       "details.dni-treeview {\r\n",
       "    padding-left: 1em;\r\n",
       "}\r\n",
       "table td {\r\n",
       "    text-align: start;\r\n",
       "}\r\n",
       "table tr { \r\n",
       "    vertical-align: top; \r\n",
       "    margin: 0em 0px;\r\n",
       "}\r\n",
       "table tr td pre \r\n",
       "{ \r\n",
       "    vertical-align: top !important; \r\n",
       "    margin: 0em 0px !important;\r\n",
       "} \r\n",
       "table th {\r\n",
       "    text-align: start;\r\n",
       "}\r\n",
       "</style>"
      ]
     },
     "metadata": {},
     "output_type": "display_data"
    }
   ],
   "source": [
    "using Newtonsoft.Json;\n",
    "using System.Linq;\n",
    "using System.IO;\n",
    "using Newtonsoft.Json.Linq;\n",
    "using System.Collections.Generic;\n",
    "public class Cadet\n",
    "{\n",
    "    public string name { get; set;}\n",
    "    public string group{ get; set;}\n",
    "    public string discipline{ get; set;}\n",
    "    public int mark { get; set;}\n",
    "}\n",
    "string jsonText = File.ReadAllText(\"part2.json\");\n",
    "List<Cadet> qq = JsonConvert.DeserializeObject<List<Cadet>>(jsonText);\n",
    "var quest0 = qq.GroupBy(s => s.discipline).Select(g => g.GroupBy(s => s.group).Select(g2 => new { Name = g2.Select(g => g.discipline).First(), Group = g2.Key, GPA = g2.Average(s => s.mark)}).OrderByDescending(g2 => g2.GPA).First());\n",
    "\n",
    "foreach(var a in quest0){\n",
    "JObject o = (JObject)JToken.FromObject(a);\n",
    "Console.WriteLine(o.ToString());\n",
    "}\n",
    "File.WriteAllText(\"partans\", JsonConvert.SerializeObject(quest0));\n",
    "quest0"
   ]
  }
 ],
 "metadata": {
  "kernelspec": {
   "display_name": ".NET (C#)",
   "language": "C#",
   "name": ".net-csharp"
  },
  "polyglot_notebook": {
   "kernelInfo": {
    "defaultKernelName": "csharp",
    "items": [
     {
      "aliases": [],
      "languageName": "csharp",
      "name": "csharp"
     }
    ]
   }
  }
 },
 "nbformat": 4,
 "nbformat_minor": 2
}
