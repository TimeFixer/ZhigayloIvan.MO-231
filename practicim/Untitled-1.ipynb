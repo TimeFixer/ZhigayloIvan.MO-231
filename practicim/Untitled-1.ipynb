{
 "cells": [
  {
   "cell_type": "code",
   "execution_count": null,
   "metadata": {
    "dotnet_interactive": {
     "language": "csharp"
    },
    "polyglot_notebook": {
     "kernelName": "csharp"
    }
   },
   "outputs": [],
   "source": [
    "using Newtonsoft.Json;\n",
    "using System.Linq;\n",
    "using System.IO;\n",
    "using Newtonsoft.Json.Linq;\n",
    "using System.Collections.Generic;\n",
    "public class Cadet\n",
    "{\n",
    "    public string name { get; set;}\n",
    "    public string group{ get; set;}\n",
    "    public string discipline{ get; set;}\n",
    "    public int mark { get; set;}\n",
    "}\n",
    "string jsonText = File.ReadAllText(\"part.json\");\n",
    "List<Cadet> qq = JsonConvert.DeserializeObject<List<Cadet>>(jsonText);\n",
    "var quest0 = qq.GroupBy(s => s.group).Select(g => g.GroupBy(s => s.name).Select(g2 => new { Name = g2.Key, GPA = g2.Average(s => s.mark)}).OrderByDescending(g2 => g2.GPA).First());\n",
    "foreach(var a in quest0){\n",
    "JObject o = (JObject)JToken.FromObject(a);\n",
    "Console.WriteLine(o.ToString());\n",
    "}\n",
    "File.WriteAllText(\"partans.json\", JsonConvert.SerializeObject(quest0));\n",
    "quest0"
   ]
  },
  {
   "cell_type": "code",
   "execution_count": null,
   "metadata": {
    "dotnet_interactive": {
     "language": "csharp"
    },
    "polyglot_notebook": {
     "kernelName": "csharp"
    }
   },
   "outputs": [],
   "source": [
    "using Newtonsoft.Json;\n",
    "using System.Linq;\n",
    "using System.IO;\n",
    "using Newtonsoft.Json.Linq;\n",
    "using System.Collections.Generic;\n",
    "public class Cadet\n",
    "{\n",
    "    public string name { get; set;}\n",
    "    public string group{ get; set;}\n",
    "    public string discipline{ get; set;}\n",
    "    public int mark { get; set;}\n",
    "}\n",
    "string jsonText = File.ReadAllText(\"part1.json\");\n",
    "List<Cadet> qq = JsonConvert.DeserializeObject<List<Cadet>>(jsonText);\n",
    "var quest0 = qq.GroupBy(s => s.discipline).Select(g2 => new { Name = g2.Key, GPA = g2.Average(s => s.mark)}).ToDictionary(x => x.Name, x => x.GPA);\n",
    "File.WriteAllText(\"partans.json\", JsonConvert.SerializeObject(quest0));\n",
    "quest0"
   ]
  },
  {
   "cell_type": "code",
   "execution_count": null,
   "metadata": {
    "dotnet_interactive": {
     "language": "csharp"
    },
    "polyglot_notebook": {
     "kernelName": "csharp"
    }
   },
   "outputs": [],
   "source": [
    "using Newtonsoft.Json;\n",
    "using System.Linq;\n",
    "using System.IO;\n",
    "using Newtonsoft.Json.Linq;\n",
    "using System.Collections.Generic;\n",
    "public class Cadet\n",
    "{\n",
    "    public string name { get; set;}\n",
    "    public string group{ get; set;}\n",
    "    public string discipline{ get; set;}\n",
    "    public int mark { get; set;}\n",
    "}\n",
    "string jsonText = File.ReadAllText(\"part2.json\");\n",
    "List<Cadet> qq = JsonConvert.DeserializeObject<List<Cadet>>(jsonText);\n",
    "var quest0 = qq.GroupBy(s => s.discipline).Select(g => g.GroupBy(s => s.group).Select(g2 => new { Name = g2.Select(g => g.discipline).First(), Group = g2.Key, GPA = g2.Average(s => s.mark)}).OrderByDescending(g2 => g2.GPA).First());\n",
    "\n",
    "foreach(var a in quest0){\n",
    "JObject o = (JObject)JToken.FromObject(a);\n",
    "Console.WriteLine(o.ToString());\n",
    "}\n",
    "File.WriteAllText(\"partans.json\", JsonConvert.SerializeObject(quest0));\n",
    "quest0"
   ]
  },
  {
   "cell_type": "code",
   "execution_count": null,
   "metadata": {
    "dotnet_interactive": {
     "language": "csharp"
    },
    "polyglot_notebook": {
     "kernelName": "csharp"
    }
   },
   "outputs": [],
   "source": [
    "class TrapezoidalRule {\n",
    "    static bool Cheker(double x, double y){return x - y > 1E-8;}\n",
    "    public static double Solve(Func<double, double> f, double a, double b, double dx) {\n",
    "        if(!Double.IsNormal(dx) || !Double.IsNormal(a) || !Double.IsNormal(b) || !Cheker(b, a)) throw new Exception(\"Недопустимые входные данные\");\n",
    "        int n = Convert.ToInt32((b-a)/dx);\n",
    "        return Enumerable.Range(0, n).Select(i => a + i * dx).Sum(x => (f(x) + f(x + dx)) * dx/2);\n",
    "    }\n",
    "}\n",
    "Func<double, double> f = (double x) => -x*x + 9;\n",
    "\n",
    "var answ = TrapezoidalRule.Solve(f, -3, 3, 0.1);\n",
    "answ\n"
   ]
  }
 ],
 "metadata": {
  "kernelspec": {
   "display_name": ".NET (C#)",
   "language": "C#",
   "name": ".net-csharp"
  },
  "polyglot_notebook": {
   "kernelInfo": {
    "defaultKernelName": "csharp",
    "items": [
     {
      "aliases": [],
      "languageName": "csharp",
      "name": "csharp"
     }
    ]
   }
  }
 },
 "nbformat": 4,
 "nbformat_minor": 2
}
