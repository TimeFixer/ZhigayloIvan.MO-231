{
 "cells": [
  {
   "cell_type": "code",
   "execution_count": 1,
   "metadata": {
    "dotnet_interactive": {
     "language": "csharp"
    },
    "polyglot_notebook": {
     "kernelName": "csharp"
    }
   },
   "outputs": [
    {
     "ename": "Error",
     "evalue": "System.IO.FileNotFoundException: Could not load file or assembly 'c:\\Users\\user\\Desktop\\core.dll'. Не удается найти указанный файл.\r\nFile name: 'c:\\Users\\user\\Desktop\\core.dll'\r\n   at System.Runtime.Loader.AssemblyLoadContext.LoadFromAssemblyPath(String assemblyPath)\r\n   at System.Reflection.Assembly.LoadFrom(String assemblyFile)\r\n   at Submission#2.<<Initialize>>d__0.MoveNext()\r\n--- End of stack trace from previous location ---\r\n   at Microsoft.CodeAnalysis.Scripting.ScriptExecutionState.RunSubmissionsAsync[TResult](ImmutableArray`1 precedingExecutors, Func`2 currentExecutor, StrongBox`1 exceptionHolderOpt, Func`2 catchExceptionOpt, CancellationToken cancellationToken)",
     "output_type": "error",
     "traceback": [
      "System.IO.FileNotFoundException: Could not load file or assembly 'c:\\Users\\user\\Desktop\\core.dll'. Не удается найти указанный файл.\r\n",
      "File name: 'c:\\Users\\user\\Desktop\\core.dll'\r\n",
      "   at System.Runtime.Loader.AssemblyLoadContext.LoadFromAssemblyPath(String assemblyPath)\r\n",
      "   at System.Reflection.Assembly.LoadFrom(String assemblyFile)\r\n",
      "   at Submission#2.<<Initialize>>d__0.MoveNext()\r\n",
      "--- End of stack trace from previous location ---\r\n",
      "   at Microsoft.CodeAnalysis.Scripting.ScriptExecutionState.RunSubmissionsAsync[TResult](ImmutableArray`1 precedingExecutors, Func`2 currentExecutor, StrongBox`1 exceptionHolderOpt, Func`2 catchExceptionOpt, CancellationToken cancellationToken)"
     ]
    }
   ],
   "source": [
    "using System.Reflection;\n",
    "Assembly assembly = Assembly.LoadFrom(\"core.dll\");  \n",
    "Type[] types = assembly.GetTypes();\n",
    "foreach (Type type in types)\n",
    "{\n",
    "    Console.WriteLine($\"Type: {type.Name}\");\n",
    "    MethodInfo[] methods = type.GetMethods(BindingFlags.Public | BindingFlags.Instance | BindingFlags.Static);\n",
    "    foreach (MethodInfo method in methods)\n",
    "    {\n",
    "        Console.Write($\"    Method: {method.Name}, Return Type: {method.ReturnType}, Parameters: \");\n",
    "        ParameterInfo[] parameters = method.GetParameters();\n",
    "        foreach (ParameterInfo param in parameters)\n",
    "        {\n",
    "            Console.Write($\"{param.Name} ({param.ParameterType}), \");\n",
    "        }\n",
    "        Console.WriteLine();\n",
    "    }\n",
    "}"
   ]
  }
 ],
 "metadata": {
  "kernelspec": {
   "display_name": ".NET (C#)",
   "language": "C#",
   "name": ".net-csharp"
  },
  "polyglot_notebook": {
   "kernelInfo": {
    "defaultKernelName": "csharp",
    "items": [
     {
      "aliases": [],
      "languageName": "csharp",
      "name": "csharp"
     }
    ]
   }
  }
 },
 "nbformat": 4,
 "nbformat_minor": 2
}
