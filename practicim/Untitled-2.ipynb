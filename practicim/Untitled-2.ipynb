{
 "cells": [
  {
   "cell_type": "code",
   "execution_count": 9,
   "metadata": {
    "dotnet_interactive": {
     "language": "csharp"
    },
    "polyglot_notebook": {
     "kernelName": "csharp"
    }
   },
   "outputs": [
    {
     "name": "stdout",
     "output_type": "stream",
     "text": [
      "Type: EmbeddedAttribute\n",
      "Метод: Equals, Возвращаемое значение: System.Boolean, Параметры: obj (System.Object)\n",
      "Метод: GetHashCode, Возвращаемое значение: System.Int32, Параметры: \n",
      "Метод: get_TypeId, Возвращаемое значение: System.Object, Параметры: \n",
      "Метод: Match, Возвращаемое значение: System.Boolean, Параметры: obj (System.Object)\n",
      "Метод: IsDefaultAttribute, Возвращаемое значение: System.Boolean, Параметры: \n",
      "Метод: GetType, Возвращаемое значение: System.Type, Параметры: \n",
      "Метод: ToString, Возвращаемое значение: System.String, Параметры: \n",
      "Type: NullableAttribute\n",
      "Метод: Equals, Возвращаемое значение: System.Boolean, Параметры: obj (System.Object)\n",
      "Метод: GetHashCode, Возвращаемое значение: System.Int32, Параметры: \n",
      "Метод: get_TypeId, Возвращаемое значение: System.Object, Параметры: \n",
      "Метод: Match, Возвращаемое значение: System.Boolean, Параметры: obj (System.Object)\n",
      "Метод: IsDefaultAttribute, Возвращаемое значение: System.Boolean, Параметры: \n",
      "Метод: GetType, Возвращаемое значение: System.Type, Параметры: \n",
      "Метод: ToString, Возвращаемое значение: System.String, Параметры: \n",
      "Type: NullableContextAttribute\n",
      "Метод: Equals, Возвращаемое значение: System.Boolean, Параметры: obj (System.Object)\n",
      "Метод: GetHashCode, Возвращаемое значение: System.Int32, Параметры: \n",
      "Метод: get_TypeId, Возвращаемое значение: System.Object, Параметры: \n",
      "Метод: Match, Возвращаемое значение: System.Boolean, Параметры: obj (System.Object)\n",
      "Метод: IsDefaultAttribute, Возвращаемое значение: System.Boolean, Параметры: \n",
      "Метод: GetType, Возвращаемое значение: System.Type, Параметры: \n",
      "Метод: ToString, Возвращаемое значение: System.String, Параметры: \n",
      "Type: ICommand\n",
      "Метод: Execute, Возвращаемое значение: System.Void, Параметры: \n",
      "Type: IoC\n",
      "Метод: GetType, Возвращаемое значение: System.Type, Параметры: \n",
      "Метод: ToString, Возвращаемое значение: System.String, Параметры: \n",
      "Метод: Equals, Возвращаемое значение: System.Boolean, Параметры: obj (System.Object)\n",
      "Метод: GetHashCode, Возвращаемое значение: System.Int32, Параметры: \n",
      "Type: SetupCommand\n",
      "Метод: Execute, Возвращаемое значение: System.Void, Параметры: \n",
      "Метод: GetType, Возвращаемое значение: System.Type, Параметры: \n",
      "Метод: ToString, Возвращаемое значение: System.String, Параметры: \n",
      "Метод: Equals, Возвращаемое значение: System.Boolean, Параметры: obj (System.Object)\n",
      "Метод: GetHashCode, Возвращаемое значение: System.Int32, Параметры: \n",
      "Type: <>c\n",
      "Метод: GetType, Возвращаемое значение: System.Type, Параметры: \n",
      "Метод: ToString, Возвращаемое значение: System.String, Параметры: \n",
      "Метод: Equals, Возвращаемое значение: System.Boolean, Параметры: obj (System.Object)\n",
      "Метод: GetHashCode, Возвращаемое значение: System.Int32, Параметры: \n"
     ]
    }
   ],
   "source": [
    "using System.Reflection;\n",
    "    Assembly assembly = Assembly.LoadFrom(\"core.dll\");\n",
    "    Type[] types = assembly.GetTypes();\n",
    "    foreach (Type type in types)\n",
    "    {\n",
    "            Console.WriteLine(\"Type: \" + type.Name);\n",
    "        MethodInfo[] methods = type.GetMethods(BindingFlags.Public | BindingFlags.Instance);\n",
    "\n",
    "        foreach (MethodInfo method in methods)\n",
    "        {\n",
    "            Console.Write(\"Метод: \" + method.Name+\", Возвращаемое значение: \"+method.ReturnType + \", \");\n",
    "            ParameterInfo[] parameters = method.GetParameters();\n",
    "            if (!parameters.Any()) {Console.WriteLine();continue;}\n",
    "            Console.Write(\"Параметры: \");\n",
    "            foreach (ParameterInfo param in parameters)\n",
    "            {\n",
    "                Console.Write($\"{param.Name} ({param.ParameterType})\");\n",
    "            }\n",
    "            Console.WriteLine();\n",
    "        }\n",
    "    }"
   ]
  },
  {
   "cell_type": "code",
   "execution_count": null,
   "metadata": {},
   "outputs": [],
   "source": []
  }
 ],
 "metadata": {
  "kernelspec": {
   "display_name": ".NET (C#)",
   "language": "C#",
   "name": ".net-csharp"
  },
  "polyglot_notebook": {
   "kernelInfo": {
    "defaultKernelName": "csharp",
    "items": [
     {
      "aliases": [],
      "languageName": "csharp",
      "name": "csharp"
     }
    ]
   }
  }
 },
 "nbformat": 4,
 "nbformat_minor": 2
}
